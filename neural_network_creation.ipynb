{
  "nbformat": 4,
  "nbformat_minor": 0,
  "metadata": {
    "colab": {
      "name": "neural_network_heartbeat_diseases_ .ipynb",
      "provenance": [],
      "collapsed_sections": []
    },
    "kernelspec": {
      "name": "python3",
      "display_name": "Python 3"
    },
    "accelerator": "GPU"
  },
  "cells": [
    {
      "cell_type": "code",
      "metadata": {
        "id": "xRngyL7unNQ9"
      },
      "source": [
        "import pandas as pd\n",
        "import librosa\n",
        "import librosa.display\n",
        "import matplotlib.pyplot as plt\n",
        "import numpy as np\n",
        "import os, fnmatch\n",
        "\n",
        "import keras\n",
        "from keras.models import Sequential\n",
        "from keras.layers import Dense, Bidirectional, LSTM \n",
        "from keras.callbacks import ModelCheckpoint\n",
        "from tensorflow.keras import utils\n",
        "from sklearn import metrics \n",
        "from sklearn.preprocessing import LabelEncoder\n",
        "from sklearn.model_selection import train_test_split\n",
        "\n"
      ],
      "execution_count": 1,
      "outputs": []
    },
    {
      "cell_type": "code",
      "metadata": {
        "id": "0YZxvj8HnJXV"
      },
      "source": [
        "INPUT_DIR = \"/content/drive/My Drive/heart/\"\n",
        "set_a = pd.read_csv(INPUT_DIR+\"set_a.csv\")\n",
        "set_b = pd.read_csv(INPUT_DIR+\"set_b.csv\")"
      ],
      "execution_count": 2,
      "outputs": []
    },
    {
      "cell_type": "code",
      "metadata": {
        "id": "Ci8yWSyDvhbw",
        "colab": {
          "base_uri": "https://localhost:8080/",
          "height": 424
        },
        "outputId": "492372cd-ac32-4fe7-b23e-650ef9d003ff"
      },
      "source": [
        "data = set_a.append(set_b, ignore_index = True)\n",
        "data = data.loc[data['label'].notnull()]\n",
        "data"
      ],
      "execution_count": 3,
      "outputs": [
        {
          "output_type": "execute_result",
          "data": {
            "text/html": [
              "<div>\n",
              "<style scoped>\n",
              "    .dataframe tbody tr th:only-of-type {\n",
              "        vertical-align: middle;\n",
              "    }\n",
              "\n",
              "    .dataframe tbody tr th {\n",
              "        vertical-align: top;\n",
              "    }\n",
              "\n",
              "    .dataframe thead th {\n",
              "        text-align: right;\n",
              "    }\n",
              "</style>\n",
              "<table border=\"1\" class=\"dataframe\">\n",
              "  <thead>\n",
              "    <tr style=\"text-align: right;\">\n",
              "      <th></th>\n",
              "      <th>dataset</th>\n",
              "      <th>fname</th>\n",
              "      <th>label</th>\n",
              "      <th>sublabel</th>\n",
              "    </tr>\n",
              "  </thead>\n",
              "  <tbody>\n",
              "    <tr>\n",
              "      <th>0</th>\n",
              "      <td>a</td>\n",
              "      <td>set_a/artifact__201012172012.wav</td>\n",
              "      <td>artifact</td>\n",
              "      <td>NaN</td>\n",
              "    </tr>\n",
              "    <tr>\n",
              "      <th>1</th>\n",
              "      <td>a</td>\n",
              "      <td>set_a/artifact__201105040918.wav</td>\n",
              "      <td>artifact</td>\n",
              "      <td>NaN</td>\n",
              "    </tr>\n",
              "    <tr>\n",
              "      <th>2</th>\n",
              "      <td>a</td>\n",
              "      <td>set_a/artifact__201105041959.wav</td>\n",
              "      <td>artifact</td>\n",
              "      <td>NaN</td>\n",
              "    </tr>\n",
              "    <tr>\n",
              "      <th>3</th>\n",
              "      <td>a</td>\n",
              "      <td>set_a/artifact__201105051017.wav</td>\n",
              "      <td>artifact</td>\n",
              "      <td>NaN</td>\n",
              "    </tr>\n",
              "    <tr>\n",
              "      <th>4</th>\n",
              "      <td>a</td>\n",
              "      <td>set_a/artifact__201105060108.wav</td>\n",
              "      <td>artifact</td>\n",
              "      <td>NaN</td>\n",
              "    </tr>\n",
              "    <tr>\n",
              "      <th>...</th>\n",
              "      <td>...</td>\n",
              "      <td>...</td>\n",
              "      <td>...</td>\n",
              "      <td>...</td>\n",
              "    </tr>\n",
              "    <tr>\n",
              "      <th>827</th>\n",
              "      <td>b</td>\n",
              "      <td>set_b/Btraining_normal_Btraining_noisynormal_2...</td>\n",
              "      <td>normal</td>\n",
              "      <td>noisynormal</td>\n",
              "    </tr>\n",
              "    <tr>\n",
              "      <th>828</th>\n",
              "      <td>b</td>\n",
              "      <td>set_b/Btraining_normal_Btraining_noisynormal_2...</td>\n",
              "      <td>normal</td>\n",
              "      <td>noisynormal</td>\n",
              "    </tr>\n",
              "    <tr>\n",
              "      <th>829</th>\n",
              "      <td>b</td>\n",
              "      <td>set_b/Btraining_normal_Btraining_noisynormal_2...</td>\n",
              "      <td>normal</td>\n",
              "      <td>noisynormal</td>\n",
              "    </tr>\n",
              "    <tr>\n",
              "      <th>830</th>\n",
              "      <td>b</td>\n",
              "      <td>set_b/Btraining_normal_Btraining_noisynormal_2...</td>\n",
              "      <td>normal</td>\n",
              "      <td>noisynormal</td>\n",
              "    </tr>\n",
              "    <tr>\n",
              "      <th>831</th>\n",
              "      <td>b</td>\n",
              "      <td>set_b/Btraining_normal_Btraining_noisynormal_2...</td>\n",
              "      <td>normal</td>\n",
              "      <td>noisynormal</td>\n",
              "    </tr>\n",
              "  </tbody>\n",
              "</table>\n",
              "<p>585 rows × 4 columns</p>\n",
              "</div>"
            ],
            "text/plain": [
              "    dataset  ...     sublabel\n",
              "0         a  ...          NaN\n",
              "1         a  ...          NaN\n",
              "2         a  ...          NaN\n",
              "3         a  ...          NaN\n",
              "4         a  ...          NaN\n",
              "..      ...  ...          ...\n",
              "827       b  ...  noisynormal\n",
              "828       b  ...  noisynormal\n",
              "829       b  ...  noisynormal\n",
              "830       b  ...  noisynormal\n",
              "831       b  ...  noisynormal\n",
              "\n",
              "[585 rows x 4 columns]"
            ]
          },
          "metadata": {},
          "execution_count": 3
        }
      ]
    },
    {
      "cell_type": "code",
      "metadata": {
        "id": "8Ec22I8KyI7b",
        "colab": {
          "base_uri": "https://localhost:8080/"
        },
        "outputId": "64bf8d00-519b-4103-eccc-aae78b8556bb"
      },
      "source": [
        "classes=list(data.label.unique())\n",
        "classes"
      ],
      "execution_count": 4,
      "outputs": [
        {
          "output_type": "execute_result",
          "data": {
            "text/plain": [
              "['artifact', 'extrahls', 'murmur', 'normal', 'extrastole']"
            ]
          },
          "metadata": {},
          "execution_count": 4
        }
      ]
    },
    {
      "cell_type": "code",
      "metadata": {
        "id": "qh2Jz3YjtIN9"
      },
      "source": [
        "# shift track by random value \n",
        "def augmentation(data, sampling_rate, shift_max):\n",
        "    shift = np.random.randint(sampling_rate * shift_max)\n",
        "    direction = np.random.randint(0, 2)\n",
        "    if direction == 1:\n",
        "      shift = -shift    \n",
        "    augmented_data = np.roll(data, shift)\n",
        "    if shift > 0:\n",
        "        augmented_data[:shift] = 0\n",
        "    else:\n",
        "        augmented_data[shift:] = 0\n",
        "    return augmented_data"
      ],
      "execution_count": 5,
      "outputs": []
    },
    {
      "cell_type": "code",
      "metadata": {
        "id": "BFrSlcSpY61l"
      },
      "source": [
        "# audio conversion using Mel-frequency cepstrum \n",
        "def load_audio(file_names, sound_duration=12, sample_rate=16000):\n",
        "  input_length=sample_rate*sound_duration\n",
        "  try:\n",
        "    sound, sample_rate = librosa.load( file_names, sr=sample_rate, duration=sound_duration, res_type='kaiser_fast')\n",
        "    duration = librosa.get_duration(y=sound, sr=sample_rate)\n",
        "    if (round(duration) < sound_duration):\n",
        "        y = librosa.util.fix_length(sound, input_length)               \n",
        "  except Exception as e:\n",
        "    print('File reading error')\n",
        "    return ''\n",
        "  mfccs = np.mean(librosa.feature.mfcc(y=sound, sr=sample_rate, n_mfcc=40).T,axis=0)\n",
        "  feature = np.array(mfccs).reshape([-1,1])\n",
        "\n",
        "  aug_sound = augmentation(sound, 16000, 6)\n",
        "  aug_mfccs = np.mean(librosa.feature.mfcc(y=aug_sound, sr=sample_rate, n_mfcc=40).T,axis=0)\n",
        "  aug_feature = np.array(aug_mfccs).reshape([-1,1])\n",
        "  return feature, aug_feature\n"
      ],
      "execution_count": 6,
      "outputs": []
    },
    {
      "cell_type": "code",
      "metadata": {
        "id": "_0r05RAg7bWO"
      },
      "source": [
        "artifact = fnmatch.filter(os.listdir(INPUT_DIR+'/set_a'), 'artifact*.wav')\n",
        "artifact = ['/set_a/'+ x for x in artifact]\n",
        "\n",
        "normal_a = fnmatch.filter(os.listdir(INPUT_DIR+'/set_a'), 'normal*.wav')\n",
        "normal_b = fnmatch.filter(os.listdir(INPUT_DIR+'/set_b'), 'normal*.wav')\n",
        "normal_a = ['/set_a/'+ x for x in normal_a]\n",
        "normal_b = ['/set_b/'+ x for x in normal_b]\n",
        "normal = normal_a + normal_b\n",
        "\n",
        "extrahls_а = fnmatch.filter(os.listdir(INPUT_DIR+'/set_a'), 'extrahls*.wav')\n",
        "extrahls = ['/set_a/'+ x for x in extrahls_а]\n",
        "\n",
        "murmur_a = fnmatch.filter(os.listdir(INPUT_DIR+'/set_a'), 'murmur*.wav')\n",
        "murmur_b = fnmatch.filter(os.listdir(INPUT_DIR+'/set_b'), 'murmur*.wav')\n",
        "murmur_a = ['/set_a/'+ x for x in murmur_a]\n",
        "murmur_b = ['/set_b/'+ x for x in murmur_b]\n",
        "murmur = murmur_a + murmur_b\n",
        "\n",
        "extrastole_b = fnmatch.filter(os.listdir(INPUT_DIR+'/set_b'), 'extrastole*.wav')\n",
        "extrastole = ['/set_b/'+ x for x in extrastole_b]"
      ],
      "execution_count": 7,
      "outputs": []
    },
    {
      "cell_type": "code",
      "metadata": {
        "colab": {
          "base_uri": "https://localhost:8080/",
          "height": 297
        },
        "id": "drsWiMZanoDl",
        "outputId": "f59e35ac-5215-45ed-e25e-936e995ab93c"
      },
      "source": [
        "x, aug_x = load_audio(INPUT_DIR + murmur[6])\n",
        "librosa.display.specshow(x, x_axis='time')\n",
        "plt.colorbar()\n",
        "plt.title(\"MFCC(murmur)\")\n",
        "plt.tight_layout()"
      ],
      "execution_count": 8,
      "outputs": [
        {
          "output_type": "display_data",
          "data": {
            "image/png": "[encoded data removed]",
            "text/plain": [
              "<Figure size 432x288 with 2 Axes>"
            ]
          },
          "metadata": {
            "needs_background": "light"
          }
        }
      ]
    },
    {
      "cell_type": "code",
      "metadata": {
        "colab": {
          "base_uri": "https://localhost:8080/",
          "height": 297
        },
        "id": "egZ7BfLjocO_",
        "outputId": "7dc4ae8d-9d05-4caa-a2d2-aa72a45de402"
      },
      "source": [
        "x, aug_x = load_audio(INPUT_DIR + normal_b[6])\n",
        "librosa.display.specshow(x, x_axis='time')\n",
        "plt.colorbar()\n",
        "plt.title(\"MFCC(Нормальное сердцебиение)\")\n",
        "plt.tight_layout()"
      ],
      "execution_count": 9,
      "outputs": [
        {
          "output_type": "display_data",
          "data": {
            "image/png": "[encoded data removed]",
            "text/plain": [
              "<Figure size 432x288 with 2 Axes>"
            ]
          },
          "metadata": {
            "needs_background": "light"
          }
        }
      ]
    },
    {
      "cell_type": "code",
      "metadata": {
        "colab": {
          "base_uri": "https://localhost:8080/",
          "height": 297
        },
        "id": "zVzYQ4Ngopx_",
        "outputId": "315300b3-230a-4974-f566-19703ffd0fdc"
      },
      "source": [
        "x, aug_x = load_audio(INPUT_DIR + artifact[2])\n",
        "librosa.display.specshow(x, x_axis='time')\n",
        "plt.colorbar()\n",
        "plt.title(\"MFCC(Некорректная аудиодорожка)\")\n",
        "plt.tight_layout()"
      ],
      "execution_count": 10,
      "outputs": [
        {
          "output_type": "display_data",
          "data": {
            "image/png": "[encoded data removed]",
            "text/plain": [
              "<Figure size 432x288 with 2 Axes>"
            ]
          },
          "metadata": {
            "needs_background": "light"
          }
        }
      ]
    },
    {
      "cell_type": "code",
      "metadata": {
        "colab": {
          "base_uri": "https://localhost:8080/",
          "height": 297
        },
        "id": "3_p37GjmpjQy",
        "outputId": "22742b75-95b6-438f-8643-7b25efd0055d"
      },
      "source": [
        "x, aug_x = load_audio(INPUT_DIR + extrastole[12])\n",
        "librosa.display.specshow(x, x_axis='time')\n",
        "plt.colorbar()\n",
        "plt.title(\"MFCC(Экстрасистолия)\")\n",
        "plt.tight_layout()"
      ],
      "execution_count": 11,
      "outputs": [
        {
          "output_type": "display_data",
          "data": {
            "image/png": "[encoded data removed]",
            "text/plain": [
              "<Figure size 432x288 with 2 Axes>"
            ]
          },
          "metadata": {
            "needs_background": "light"
          }
        }
      ]
    },
    {
      "cell_type": "code",
      "metadata": {
        "colab": {
          "base_uri": "https://localhost:8080/",
          "height": 297
        },
        "id": "LcyWy9jD7-rN",
        "outputId": "0b894a11-d846-4f0f-fcce-136e020ec472"
      },
      "source": [
        "x, aug_x = load_audio(INPUT_DIR + extrahls[2])\n",
        "librosa.display.specshow(x, x_axis='time')\n",
        "plt.colorbar()\n",
        "plt.title(\"MFCC(Экстра-звуки)\")\n",
        "plt.tight_layout()"
      ],
      "execution_count": 12,
      "outputs": [
        {
          "output_type": "display_data",
          "data": {
            "image/png": "[encoded data removed]",
            "text/plain": [
              "<Figure size 432x288 with 2 Axes>"
            ]
          },
          "metadata": {
            "needs_background": "light"
          }
        }
      ]
    },
    {
      "cell_type": "code",
      "metadata": {
        "id": "DLD_vRWQCOuN"
      },
      "source": [
        "X_name = artifact + normal + extrahls + murmur + extrastole\n",
        "y_name = [classes.index('artifact')]*len(artifact) + [classes.index('normal')]*len(normal) \n",
        "y_name += [classes.index('extrahls')]*len(extrahls) + [classes.index('murmur')]*len(murmur) + [classes.index('extrastole')]*len(extrastole)\n"
      ],
      "execution_count": 13,
      "outputs": []
    },
    {
      "cell_type": "code",
      "metadata": {
        "id": "pdfmVCvfE8X3"
      },
      "source": [
        "X = []\n",
        "y = []\n",
        "aug_X = []\n",
        "for i in range(len(X_name)):  \n",
        "  try:\n",
        "    x, aug_x = load_audio(INPUT_DIR + X_name[i])\n",
        "  except:\n",
        "    continue\n",
        "  if x.any():\n",
        "    X.append(x)\n",
        "    aug_X.append(aug_x)\n",
        "    y.append(y_name[i])\n",
        "    x = []"
      ],
      "execution_count": 14,
      "outputs": []
    },
    {
      "cell_type": "code",
      "metadata": {
        "id": "ECcTSEaNmaF3"
      },
      "source": [
        "y_bin = utils.to_categorical(y, len(classes))\n",
        "y_data = np.concatenate((y_bin, y_bin))\n",
        "X_data = np.concatenate((X, aug_X))\n",
        "\n",
        "x_train, x_val, y_train, y_val = train_test_split(X_data,\n",
        "                                                  y_data, \n",
        "                                                  test_size=0.4, \n",
        "                                                  random_state=44)"
      ],
      "execution_count": 15,
      "outputs": []
    },
    {
      "cell_type": "code",
      "metadata": {
        "id": "vjAe8r7fhCaZ",
        "colab": {
          "base_uri": "https://localhost:8080/"
        },
        "outputId": "58672865-1ff2-416b-957e-ec42743ad3f0"
      },
      "source": [
        "\n",
        "model = Sequential()\n",
        "model.add(Bidirectional(LSTM(units=64, dropout=0.2, return_sequences=True), input_shape=(40,1)))\n",
        "model.add(Bidirectional(LSTM(units=32, dropout=0.2, return_sequences=False)))\n",
        "model.add(Dense(len(classes), activation='softmax'))\n",
        "model.compile(loss='categorical_crossentropy', optimizer='Adam', metrics=['acc'])\n",
        "model.summary()"
      ],
      "execution_count": 16,
      "outputs": [
        {
          "output_type": "stream",
          "name": "stdout",
          "text": [
            "Model: \"sequential\"\n",
            "_________________________________________________________________\n",
            " Layer (type)                Output Shape              Param #   \n",
            "=================================================================\n",
            " bidirectional (Bidirectiona  (None, 40, 128)          33792     \n",
            " l)                                                              \n",
            "                                                                 \n",
            " bidirectional_1 (Bidirectio  (None, 64)               41216     \n",
            " nal)                                                            \n",
            "                                                                 \n",
            " dense (Dense)               (None, 5)                 325       \n",
            "                                                                 \n",
            "=================================================================\n",
            "Total params: 75,333\n",
            "Trainable params: 75,333\n",
            "Non-trainable params: 0\n",
            "_________________________________________________________________\n"
          ]
        }
      ]
    },
    {
      "cell_type": "code",
      "metadata": {
        "id": "1lSFR1GpX_3Y",
        "colab": {
          "base_uri": "https://localhost:8080/"
        },
        "outputId": "773759d9-efec-4c91-f242-c7def4c4aa74"
      },
      "source": [
        "PATIENT=15\n",
        "EPOCHS=60\n",
        "BATCH_SIZE=128\n",
        "\n",
        "model_save_path = 'best_model.h5'\n",
        "checkpoint_callback = ModelCheckpoint(model_save_path, \n",
        "                                      monitor='val_acc',\n",
        "                                      save_best_only=True,\n",
        "                                      verbose=1)\n",
        "\n",
        "history=model.fit(x_train, y_train, \n",
        "                  batch_size=BATCH_SIZE, \n",
        "                  epochs=EPOCHS,\n",
        "                  validation_data=(x_val, y_val),\n",
        "                  callbacks=checkpoint_callback) "
      ],
      "execution_count": 17,
      "outputs": [
        {
          "output_type": "stream",
          "name": "stdout",
          "text": [
            "Epoch 1/60\n",
            "5/6 [========================>.....] - ETA: 0s - loss: 1.4681 - acc: 0.4422\n",
            "Epoch 00001: val_acc improved from -inf to 0.60470, saving model to best_model.h5\n",
            "6/6 [==============================] - 13s 432ms/step - loss: 1.4439 - acc: 0.4644 - val_loss: 1.1859 - val_acc: 0.6047\n",
            "Epoch 2/60\n",
            "5/6 [========================>.....] - ETA: 0s - loss: 1.1796 - acc: 0.5938\n",
            "Epoch 00002: val_acc did not improve from 0.60470\n",
            "6/6 [==============================] - 0s 60ms/step - loss: 1.1725 - acc: 0.5969 - val_loss: 1.0918 - val_acc: 0.6047\n",
            "Epoch 3/60\n",
            "5/6 [========================>.....] - ETA: 0s - loss: 1.0885 - acc: 0.6000\n",
            "Epoch 00003: val_acc did not improve from 0.60470\n",
            "6/6 [==============================] - 0s 61ms/step - loss: 1.0854 - acc: 0.5983 - val_loss: 1.0313 - val_acc: 0.6047\n",
            "Epoch 4/60\n",
            "5/6 [========================>.....] - ETA: 0s - loss: 1.0349 - acc: 0.5969\n",
            "Epoch 00004: val_acc improved from 0.60470 to 0.61111, saving model to best_model.h5\n",
            "6/6 [==============================] - 0s 72ms/step - loss: 1.0308 - acc: 0.5969 - val_loss: 0.9822 - val_acc: 0.6111\n",
            "Epoch 5/60\n",
            "5/6 [========================>.....] - ETA: 0s - loss: 0.9691 - acc: 0.6234\n",
            "Epoch 00005: val_acc improved from 0.61111 to 0.64316, saving model to best_model.h5\n",
            "6/6 [==============================] - 0s 70ms/step - loss: 0.9747 - acc: 0.6254 - val_loss: 0.9490 - val_acc: 0.6432\n",
            "Epoch 6/60\n",
            "5/6 [========================>.....] - ETA: 0s - loss: 0.9492 - acc: 0.6281\n",
            "Epoch 00006: val_acc improved from 0.64316 to 0.65171, saving model to best_model.h5\n",
            "6/6 [==============================] - 0s 71ms/step - loss: 0.9386 - acc: 0.6396 - val_loss: 0.9117 - val_acc: 0.6517\n",
            "Epoch 7/60\n",
            "5/6 [========================>.....] - ETA: 0s - loss: 0.9016 - acc: 0.6609\n",
            "Epoch 00007: val_acc improved from 0.65171 to 0.65385, saving model to best_model.h5\n",
            "6/6 [==============================] - 0s 69ms/step - loss: 0.9096 - acc: 0.6553 - val_loss: 0.8866 - val_acc: 0.6538\n",
            "Epoch 8/60\n",
            "5/6 [========================>.....] - ETA: 0s - loss: 0.8939 - acc: 0.6531\n",
            "Epoch 00008: val_acc improved from 0.65385 to 0.66453, saving model to best_model.h5\n",
            "6/6 [==============================] - 0s 70ms/step - loss: 0.8814 - acc: 0.6595 - val_loss: 0.8685 - val_acc: 0.6645\n",
            "Epoch 9/60\n",
            "5/6 [========================>.....] - ETA: 0s - loss: 0.8758 - acc: 0.6547\n",
            "Epoch 00009: val_acc improved from 0.66453 to 0.66880, saving model to best_model.h5\n",
            "6/6 [==============================] - 0s 71ms/step - loss: 0.8740 - acc: 0.6553 - val_loss: 0.8700 - val_acc: 0.6688\n",
            "Epoch 10/60\n",
            "5/6 [========================>.....] - ETA: 0s - loss: 0.8518 - acc: 0.6672\n",
            "Epoch 00010: val_acc improved from 0.66880 to 0.67094, saving model to best_model.h5\n",
            "6/6 [==============================] - 0s 72ms/step - loss: 0.8500 - acc: 0.6709 - val_loss: 0.8636 - val_acc: 0.6709\n",
            "Epoch 11/60\n",
            "5/6 [========================>.....] - ETA: 0s - loss: 0.8228 - acc: 0.6922\n",
            "Epoch 00011: val_acc improved from 0.67094 to 0.67521, saving model to best_model.h5\n",
            "6/6 [==============================] - 0s 69ms/step - loss: 0.8298 - acc: 0.6838 - val_loss: 0.8479 - val_acc: 0.6752\n",
            "Epoch 12/60\n",
            "5/6 [========================>.....] - ETA: 0s - loss: 0.8422 - acc: 0.6875\n",
            "Epoch 00012: val_acc did not improve from 0.67521\n",
            "6/6 [==============================] - 0s 62ms/step - loss: 0.8396 - acc: 0.6866 - val_loss: 0.8432 - val_acc: 0.6731\n",
            "Epoch 13/60\n",
            "5/6 [========================>.....] - ETA: 0s - loss: 0.8285 - acc: 0.6797\n",
            "Epoch 00013: val_acc improved from 0.67521 to 0.67949, saving model to best_model.h5\n",
            "6/6 [==============================] - 0s 70ms/step - loss: 0.8237 - acc: 0.6809 - val_loss: 0.8383 - val_acc: 0.6795\n",
            "Epoch 14/60\n",
            "5/6 [========================>.....] - ETA: 0s - loss: 0.8341 - acc: 0.6766\n",
            "Epoch 00014: val_acc did not improve from 0.67949\n",
            "6/6 [==============================] - 0s 59ms/step - loss: 0.8234 - acc: 0.6781 - val_loss: 0.8453 - val_acc: 0.6688\n",
            "Epoch 15/60\n",
            "5/6 [========================>.....] - ETA: 0s - loss: 0.8159 - acc: 0.6859\n",
            "Epoch 00015: val_acc did not improve from 0.67949\n",
            "6/6 [==============================] - 0s 61ms/step - loss: 0.8003 - acc: 0.6923 - val_loss: 0.8392 - val_acc: 0.6774\n",
            "Epoch 16/60\n",
            "5/6 [========================>.....] - ETA: 0s - loss: 0.8005 - acc: 0.7063\n",
            "Epoch 00016: val_acc did not improve from 0.67949\n",
            "6/6 [==============================] - 0s 61ms/step - loss: 0.7957 - acc: 0.7066 - val_loss: 0.8353 - val_acc: 0.6667\n",
            "Epoch 17/60\n",
            "5/6 [========================>.....] - ETA: 0s - loss: 0.8056 - acc: 0.6859\n",
            "Epoch 00017: val_acc did not improve from 0.67949\n",
            "6/6 [==============================] - 0s 61ms/step - loss: 0.8053 - acc: 0.6880 - val_loss: 0.8580 - val_acc: 0.6795\n",
            "Epoch 18/60\n",
            "5/6 [========================>.....] - ETA: 0s - loss: 0.7838 - acc: 0.6922\n",
            "Epoch 00018: val_acc improved from 0.67949 to 0.68376, saving model to best_model.h5\n",
            "6/6 [==============================] - 0s 71ms/step - loss: 0.7799 - acc: 0.6923 - val_loss: 0.8376 - val_acc: 0.6838\n",
            "Epoch 19/60\n",
            "5/6 [========================>.....] - ETA: 0s - loss: 0.7598 - acc: 0.7047\n",
            "Epoch 00019: val_acc did not improve from 0.68376\n",
            "6/6 [==============================] - 0s 75ms/step - loss: 0.7706 - acc: 0.6980 - val_loss: 0.8453 - val_acc: 0.6816\n",
            "Epoch 20/60\n",
            "5/6 [========================>.....] - ETA: 0s - loss: 0.7915 - acc: 0.6828\n",
            "Epoch 00020: val_acc did not improve from 0.68376\n",
            "6/6 [==============================] - 0s 61ms/step - loss: 0.7979 - acc: 0.6809 - val_loss: 0.8360 - val_acc: 0.6774\n",
            "Epoch 21/60\n",
            "6/6 [==============================] - ETA: 0s - loss: 0.7819 - acc: 0.6909\n",
            "Epoch 00021: val_acc did not improve from 0.68376\n",
            "6/6 [==============================] - 0s 63ms/step - loss: 0.7819 - acc: 0.6909 - val_loss: 0.8437 - val_acc: 0.6752\n",
            "Epoch 22/60\n",
            "5/6 [========================>.....] - ETA: 0s - loss: 0.7784 - acc: 0.6812\n",
            "Epoch 00022: val_acc improved from 0.68376 to 0.68590, saving model to best_model.h5\n",
            "6/6 [==============================] - 0s 69ms/step - loss: 0.7791 - acc: 0.6838 - val_loss: 0.8289 - val_acc: 0.6859\n",
            "Epoch 23/60\n",
            "5/6 [========================>.....] - ETA: 0s - loss: 0.7715 - acc: 0.7047\n",
            "Epoch 00023: val_acc did not improve from 0.68590\n",
            "6/6 [==============================] - 0s 60ms/step - loss: 0.7744 - acc: 0.7009 - val_loss: 0.8279 - val_acc: 0.6838\n",
            "Epoch 24/60\n",
            "5/6 [========================>.....] - ETA: 0s - loss: 0.7712 - acc: 0.6844\n",
            "Epoch 00024: val_acc did not improve from 0.68590\n",
            "6/6 [==============================] - 0s 61ms/step - loss: 0.7639 - acc: 0.6923 - val_loss: 0.8470 - val_acc: 0.6752\n",
            "Epoch 25/60\n",
            "6/6 [==============================] - ETA: 0s - loss: 0.7654 - acc: 0.7023\n",
            "Epoch 00025: val_acc did not improve from 0.68590\n",
            "6/6 [==============================] - 0s 63ms/step - loss: 0.7654 - acc: 0.7023 - val_loss: 0.8285 - val_acc: 0.6816\n",
            "Epoch 26/60\n",
            "5/6 [========================>.....] - ETA: 0s - loss: 0.7531 - acc: 0.7156\n",
            "Epoch 00026: val_acc did not improve from 0.68590\n",
            "6/6 [==============================] - 0s 61ms/step - loss: 0.7579 - acc: 0.7108 - val_loss: 0.8172 - val_acc: 0.6795\n",
            "Epoch 27/60\n",
            "5/6 [========================>.....] - ETA: 0s - loss: 0.7433 - acc: 0.6953\n",
            "Epoch 00027: val_acc did not improve from 0.68590\n",
            "6/6 [==============================] - 0s 63ms/step - loss: 0.7469 - acc: 0.6909 - val_loss: 0.8282 - val_acc: 0.6667\n",
            "Epoch 28/60\n",
            "5/6 [========================>.....] - ETA: 0s - loss: 0.7605 - acc: 0.6828\n",
            "Epoch 00028: val_acc did not improve from 0.68590\n",
            "6/6 [==============================] - 0s 61ms/step - loss: 0.7485 - acc: 0.6923 - val_loss: 0.8274 - val_acc: 0.6795\n",
            "Epoch 29/60\n",
            "5/6 [========================>.....] - ETA: 0s - loss: 0.7757 - acc: 0.7016\n",
            "Epoch 00029: val_acc did not improve from 0.68590\n",
            "6/6 [==============================] - 0s 61ms/step - loss: 0.7619 - acc: 0.7066 - val_loss: 0.8196 - val_acc: 0.6795\n",
            "Epoch 30/60\n",
            "5/6 [========================>.....] - ETA: 0s - loss: 0.7522 - acc: 0.6953\n",
            "Epoch 00030: val_acc improved from 0.68590 to 0.69231, saving model to best_model.h5\n",
            "6/6 [==============================] - 0s 72ms/step - loss: 0.7530 - acc: 0.6909 - val_loss: 0.8190 - val_acc: 0.6923\n",
            "Epoch 31/60\n",
            "5/6 [========================>.....] - ETA: 0s - loss: 0.7422 - acc: 0.6984\n",
            "Epoch 00031: val_acc did not improve from 0.69231\n",
            "6/6 [==============================] - 0s 61ms/step - loss: 0.7396 - acc: 0.7037 - val_loss: 0.8190 - val_acc: 0.6752\n",
            "Epoch 32/60\n",
            "5/6 [========================>.....] - ETA: 0s - loss: 0.7387 - acc: 0.7016\n",
            "Epoch 00032: val_acc did not improve from 0.69231\n",
            "6/6 [==============================] - 0s 61ms/step - loss: 0.7501 - acc: 0.6966 - val_loss: 0.8152 - val_acc: 0.6838\n",
            "Epoch 33/60\n",
            "5/6 [========================>.....] - ETA: 0s - loss: 0.7405 - acc: 0.7016\n",
            "Epoch 00033: val_acc did not improve from 0.69231\n",
            "6/6 [==============================] - 0s 59ms/step - loss: 0.7350 - acc: 0.7023 - val_loss: 0.8231 - val_acc: 0.6752\n",
            "Epoch 34/60\n",
            "5/6 [========================>.....] - ETA: 0s - loss: 0.7374 - acc: 0.6984\n",
            "Epoch 00034: val_acc did not improve from 0.69231\n",
            "6/6 [==============================] - 0s 60ms/step - loss: 0.7410 - acc: 0.7009 - val_loss: 0.8328 - val_acc: 0.6838\n",
            "Epoch 35/60\n",
            "5/6 [========================>.....] - ETA: 0s - loss: 0.7196 - acc: 0.7172\n",
            "Epoch 00035: val_acc did not improve from 0.69231\n",
            "6/6 [==============================] - 0s 60ms/step - loss: 0.7324 - acc: 0.7108 - val_loss: 0.8144 - val_acc: 0.6923\n",
            "Epoch 36/60\n",
            "5/6 [========================>.....] - ETA: 0s - loss: 0.7215 - acc: 0.7172\n",
            "Epoch 00036: val_acc improved from 0.69231 to 0.69444, saving model to best_model.h5\n",
            "6/6 [==============================] - 0s 70ms/step - loss: 0.7296 - acc: 0.7094 - val_loss: 0.8117 - val_acc: 0.6944\n",
            "Epoch 37/60\n",
            "5/6 [========================>.....] - ETA: 0s - loss: 0.7272 - acc: 0.7188\n",
            "Epoch 00037: val_acc did not improve from 0.69444\n",
            "6/6 [==============================] - 0s 60ms/step - loss: 0.7278 - acc: 0.7137 - val_loss: 0.8272 - val_acc: 0.6944\n",
            "Epoch 38/60\n",
            "5/6 [========================>.....] - ETA: 0s - loss: 0.7156 - acc: 0.7063\n",
            "Epoch 00038: val_acc improved from 0.69444 to 0.70513, saving model to best_model.h5\n",
            "6/6 [==============================] - 0s 70ms/step - loss: 0.7162 - acc: 0.7108 - val_loss: 0.8106 - val_acc: 0.7051\n",
            "Epoch 39/60\n",
            "6/6 [==============================] - ETA: 0s - loss: 0.7080 - acc: 0.7094\n",
            "Epoch 00039: val_acc did not improve from 0.70513\n",
            "6/6 [==============================] - 0s 64ms/step - loss: 0.7080 - acc: 0.7094 - val_loss: 0.8256 - val_acc: 0.6944\n",
            "Epoch 40/60\n",
            "5/6 [========================>.....] - ETA: 0s - loss: 0.7352 - acc: 0.7000\n",
            "Epoch 00040: val_acc did not improve from 0.70513\n",
            "6/6 [==============================] - 0s 62ms/step - loss: 0.7237 - acc: 0.7123 - val_loss: 0.8251 - val_acc: 0.6880\n",
            "Epoch 41/60\n",
            "5/6 [========================>.....] - ETA: 0s - loss: 0.7260 - acc: 0.6984\n",
            "Epoch 00041: val_acc did not improve from 0.70513\n",
            "6/6 [==============================] - 0s 60ms/step - loss: 0.7290 - acc: 0.6994 - val_loss: 0.8270 - val_acc: 0.6816\n",
            "Epoch 42/60\n",
            "5/6 [========================>.....] - ETA: 0s - loss: 0.7289 - acc: 0.7141\n",
            "Epoch 00042: val_acc did not improve from 0.70513\n",
            "6/6 [==============================] - 0s 61ms/step - loss: 0.7239 - acc: 0.7137 - val_loss: 0.8190 - val_acc: 0.6902\n",
            "Epoch 43/60\n",
            "5/6 [========================>.....] - ETA: 0s - loss: 0.7140 - acc: 0.7234\n",
            "Epoch 00043: val_acc did not improve from 0.70513\n",
            "6/6 [==============================] - 0s 63ms/step - loss: 0.7153 - acc: 0.7208 - val_loss: 0.8079 - val_acc: 0.6880\n",
            "Epoch 44/60\n",
            "6/6 [==============================] - ETA: 0s - loss: 0.7148 - acc: 0.7265\n",
            "Epoch 00044: val_acc did not improve from 0.70513\n",
            "6/6 [==============================] - 0s 63ms/step - loss: 0.7148 - acc: 0.7265 - val_loss: 0.8272 - val_acc: 0.6859\n",
            "Epoch 45/60\n",
            "6/6 [==============================] - ETA: 0s - loss: 0.7159 - acc: 0.7151\n",
            "Epoch 00045: val_acc did not improve from 0.70513\n",
            "6/6 [==============================] - 0s 62ms/step - loss: 0.7159 - acc: 0.7151 - val_loss: 0.8352 - val_acc: 0.6752\n",
            "Epoch 46/60\n",
            "5/6 [========================>.....] - ETA: 0s - loss: 0.7121 - acc: 0.7016\n",
            "Epoch 00046: val_acc did not improve from 0.70513\n",
            "6/6 [==============================] - 0s 59ms/step - loss: 0.7075 - acc: 0.7080 - val_loss: 0.8129 - val_acc: 0.7030\n",
            "Epoch 47/60\n",
            "5/6 [========================>.....] - ETA: 0s - loss: 0.7057 - acc: 0.7172\n",
            "Epoch 00047: val_acc did not improve from 0.70513\n",
            "6/6 [==============================] - 0s 61ms/step - loss: 0.7164 - acc: 0.7151 - val_loss: 0.8029 - val_acc: 0.6923\n",
            "Epoch 48/60\n",
            "6/6 [==============================] - ETA: 0s - loss: 0.6874 - acc: 0.7236\n",
            "Epoch 00048: val_acc did not improve from 0.70513\n",
            "6/6 [==============================] - 0s 65ms/step - loss: 0.6874 - acc: 0.7236 - val_loss: 0.8231 - val_acc: 0.6752\n",
            "Epoch 49/60\n",
            "5/6 [========================>.....] - ETA: 0s - loss: 0.6805 - acc: 0.7406\n",
            "Epoch 00049: val_acc did not improve from 0.70513\n",
            "6/6 [==============================] - 0s 63ms/step - loss: 0.6886 - acc: 0.7336 - val_loss: 0.8085 - val_acc: 0.6987\n",
            "Epoch 50/60\n",
            "5/6 [========================>.....] - ETA: 0s - loss: 0.6908 - acc: 0.7203\n",
            "Epoch 00050: val_acc did not improve from 0.70513\n",
            "6/6 [==============================] - 0s 61ms/step - loss: 0.6845 - acc: 0.7251 - val_loss: 0.8074 - val_acc: 0.7009\n",
            "Epoch 51/60\n",
            "5/6 [========================>.....] - ETA: 0s - loss: 0.6996 - acc: 0.7141\n",
            "Epoch 00051: val_acc did not improve from 0.70513\n",
            "6/6 [==============================] - 0s 62ms/step - loss: 0.6923 - acc: 0.7179 - val_loss: 0.8137 - val_acc: 0.6944\n",
            "Epoch 52/60\n",
            "5/6 [========================>.....] - ETA: 0s - loss: 0.6987 - acc: 0.7281\n",
            "Epoch 00052: val_acc did not improve from 0.70513\n",
            "6/6 [==============================] - 0s 61ms/step - loss: 0.6998 - acc: 0.7293 - val_loss: 0.8050 - val_acc: 0.6923\n",
            "Epoch 53/60\n",
            "5/6 [========================>.....] - ETA: 0s - loss: 0.6826 - acc: 0.7375\n",
            "Epoch 00053: val_acc did not improve from 0.70513\n",
            "6/6 [==============================] - 0s 62ms/step - loss: 0.6812 - acc: 0.7379 - val_loss: 0.8084 - val_acc: 0.6902\n",
            "Epoch 54/60\n",
            "6/6 [==============================] - ETA: 0s - loss: 0.6768 - acc: 0.7322\n",
            "Epoch 00054: val_acc did not improve from 0.70513\n",
            "6/6 [==============================] - 0s 62ms/step - loss: 0.6768 - acc: 0.7322 - val_loss: 0.8004 - val_acc: 0.6880\n",
            "Epoch 55/60\n",
            "5/6 [========================>.....] - ETA: 0s - loss: 0.6856 - acc: 0.7281\n",
            "Epoch 00055: val_acc did not improve from 0.70513\n",
            "6/6 [==============================] - 0s 61ms/step - loss: 0.6894 - acc: 0.7251 - val_loss: 0.8157 - val_acc: 0.6838\n",
            "Epoch 56/60\n",
            "5/6 [========================>.....] - ETA: 0s - loss: 0.6753 - acc: 0.7437\n",
            "Epoch 00056: val_acc did not improve from 0.70513\n",
            "6/6 [==============================] - 0s 62ms/step - loss: 0.6741 - acc: 0.7407 - val_loss: 0.8031 - val_acc: 0.6902\n",
            "Epoch 57/60\n",
            "6/6 [==============================] - ETA: 0s - loss: 0.6772 - acc: 0.7308\n",
            "Epoch 00057: val_acc did not improve from 0.70513\n",
            "6/6 [==============================] - 0s 78ms/step - loss: 0.6772 - acc: 0.7308 - val_loss: 0.8148 - val_acc: 0.6795\n",
            "Epoch 58/60\n",
            "5/6 [========================>.....] - ETA: 0s - loss: 0.6809 - acc: 0.7219\n",
            "Epoch 00058: val_acc did not improve from 0.70513\n",
            "6/6 [==============================] - 0s 60ms/step - loss: 0.6911 - acc: 0.7194 - val_loss: 0.8191 - val_acc: 0.7009\n",
            "Epoch 59/60\n",
            "5/6 [========================>.....] - ETA: 0s - loss: 0.6712 - acc: 0.7422\n",
            "Epoch 00059: val_acc did not improve from 0.70513\n",
            "6/6 [==============================] - 0s 78ms/step - loss: 0.6828 - acc: 0.7379 - val_loss: 0.8081 - val_acc: 0.6923\n",
            "Epoch 60/60\n",
            "5/6 [========================>.....] - ETA: 0s - loss: 0.6896 - acc: 0.7203\n",
            "Epoch 00060: val_acc did not improve from 0.70513\n",
            "6/6 [==============================] - 0s 59ms/step - loss: 0.6726 - acc: 0.7322 - val_loss: 0.8168 - val_acc: 0.7009\n"
          ]
        }
      ]
    },
    {
      "cell_type": "code",
      "metadata": {
        "id": "2SAUcckTOMAk"
      },
      "source": [
        "model.load_weights(model_save_path)"
      ],
      "execution_count": 18,
      "outputs": []
    },
    {
      "cell_type": "code",
      "metadata": {
        "colab": {
          "base_uri": "https://localhost:8080/",
          "height": 280
        },
        "id": "tUaDNT9NMeJU",
        "outputId": "552d67b3-8eeb-4597-b3cc-59fb11736475"
      },
      "source": [
        "plt.plot(history.history['acc'], \n",
        "         label='The proportion of correct answers on the training set ')\n",
        "plt.plot(history.history['val_acc'], \n",
        "         label='Percentage of correct answers on the test set')\n",
        "plt.xlabel('The epoch of learning ')\n",
        "plt.ylabel('Percentage of correct answers ')\n",
        "plt.legend()\n",
        "plt.show()"
      ],
      "execution_count": 19,
      "outputs": [
        {
          "output_type": "display_data",
          "data": {
            "image/png": "[encoded data removed]",
            "text/plain": [
              "<Figure size 432x288 with 1 Axes>"
            ]
          },
          "metadata": {
            "needs_background": "light"
          }
        }
      ]
    },
    {
      "cell_type": "code",
      "metadata": {
        "id": "I8iIyV0JROaB",
        "colab": {
          "base_uri": "https://localhost:8080/"
        },
        "outputId": "6f1c78fd-8907-416e-df67-1fbb7ec3bf66"
      },
      "source": [
        "score = model.evaluate(x_train, y_train, verbose=0) \n",
        "print (\"model train data score       : \",round(score[1]*100) , \"%\")\n",
        "\n",
        "score = model.evaluate(x_val, y_val, verbose=0) \n",
        "print (\"model validation data score  : \", round(score[1]*100), \"%\")"
      ],
      "execution_count": 20,
      "outputs": [
        {
          "output_type": "stream",
          "name": "stdout",
          "text": [
            "model train data score       :  72 %\n",
            "model validation data score  :  71 %\n"
          ]
        }
      ]
    },
    {
      "cell_type": "code",
      "metadata": {
        "id": "z592Dv-rIZ4j"
      },
      "source": [
        "model.save('heart1.h5')"
      ],
      "execution_count": 21,
      "outputs": []
    }
  ]
}